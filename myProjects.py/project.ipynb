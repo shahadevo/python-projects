{
 "cells": [
  {
   "cell_type": "code",
   "execution_count": 16,
   "id": "e848ff5a",
   "metadata": {},
   "outputs": [
    {
     "name": "stdout",
     "output_type": "stream",
     "text": [
      "32.24258580925573\n",
      "-------\n",
      "13333\n",
      "-------\n",
      "16\n",
      "-------\n",
      "11832\n"
     ]
    }
   ],
   "source": [
    "import numpy as np\n",
    "taxi=np.genfromtxt('nyc_taxis.csv', delimiter=',', skip_header=True)\n",
    "speed=taxi[:, 7] /(taxi[:, 8]  /3600)# Assuming column 7 is distance and column 8 is time\n",
    "mean_speed=speed.mean()\n",
    "print(mean_speed)\n",
    "#------------\n",
    "print('-------')\n",
    "\n",
    "rides_feb=taxi[taxi[:,1]== 2,1]#on fibruary 2nd, 2016\n",
    "print(rides_feb.shape[0])#number of rides on february 2nd, 2016\n",
    "#------------\n",
    "print('-------')\n",
    "\n",
    "print(taxi[taxi[: ,-3] >50 ,-3].shape[0])#number of rides with tip more than $50\n",
    "#------------\n",
    "print('-------')\n",
    "print(taxi[taxi[: ,6]== 2,6].shape[0])#number of rides with payment type 2 (credit card)"
   ]
  }
 ],
 "metadata": {
  "kernelspec": {
   "display_name": "base",
   "language": "python",
   "name": "python3"
  },
  "language_info": {
   "codemirror_mode": {
    "name": "ipython",
    "version": 3
   },
   "file_extension": ".py",
   "mimetype": "text/x-python",
   "name": "python",
   "nbconvert_exporter": "python",
   "pygments_lexer": "ipython3",
   "version": "3.12.4"
  }
 },
 "nbformat": 4,
 "nbformat_minor": 5
}
